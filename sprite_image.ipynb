{
 "cells": [
  {
   "cell_type": "code",
   "execution_count": 1,
   "metadata": {},
   "outputs": [],
   "source": [
    "import numpy as np\n",
    "import os\n",
    "import zipfile\n",
    "\n",
    "import pytorch_lightning as pl\n",
    "import requests\n",
    "from torch.utils.data import DataLoader\n",
    "from torchvision import transforms as T\n",
    "from torchvision.datasets import CIFAR10\n",
    "from tqdm import tqdm"
   ]
  },
  {
   "cell_type": "code",
   "execution_count": 2,
   "metadata": {},
   "outputs": [],
   "source": [
    "def convert_to_rgb(images: np.ndarray) -> np.ndarray:\n",
    "    \"\"\"\n",
    "    Converts grayscale images to RGB. It changes NxHxWx1 to a NxHxWx3 array, where N is the number of figures,\n",
    "    H is the high and W the width.\n",
    "    :param images: Grayscale images of shape (NxHxWx1).\n",
    "    :return: Images in RGB format of shape (NxHxWx3).\n",
    "    \"\"\"\n",
    "    dims = np.shape(images)\n",
    "    if not ((len(dims) == 4 and dims[-1] == 1) or len(dims) == 3):\n",
    "        raise ValueError(\"Unexpected shape for grayscale images:\" + str(dims))\n",
    "\n",
    "    if dims[-1] == 1:\n",
    "        # Squeeze channel axis if it exists\n",
    "        rgb_images = np.squeeze(images, axis=-1)\n",
    "    else:\n",
    "        rgb_images = images\n",
    "    rgb_images = np.stack((rgb_images,) * 3, axis=-1)\n",
    "\n",
    "    return rgb_images\n",
    "    \n",
    "def create_sprite(images: np.ndarray) -> np.ndarray:\n",
    "    \"\"\"\n",
    "    Creates a sprite of provided images.\n",
    "    :param images: Images to construct the sprite.\n",
    "    :return: An image array containing the sprite.\n",
    "    \"\"\"\n",
    "    shape = np.shape(images)\n",
    "\n",
    "    if len(shape) < 3 or len(shape) > 4:\n",
    "        raise ValueError(\"Images provided for sprite have wrong dimensions \" + str(len(shape)))\n",
    "\n",
    "    if len(shape) == 3:\n",
    "        # Check to see if it's MNIST type of images and add axis to show image is gray-scale\n",
    "        images = np.expand_dims(images, axis=3)\n",
    "        shape = np.shape(images)\n",
    "\n",
    "    # Change black and white images to RGB\n",
    "    if shape[3] == 1:\n",
    "        images = convert_to_rgb(images)\n",
    "\n",
    "    n = int(np.ceil(np.sqrt(images.shape[0])))\n",
    "    padding = ((0, n ** 2 - images.shape[0]), (0, 0), (0, 0)) + ((0, 0),) * (images.ndim - 3)\n",
    "    images = np.pad(images, padding, mode=\"constant\", constant_values=0)\n",
    "\n",
    "    # Tile the individual thumbnails into an image\n",
    "    images = images.reshape((n, n) + images.shape[1:]).transpose((0, 2, 1, 3) + tuple(range(4, images.ndim + 1)))\n",
    "    images = images.reshape((n * images.shape[1], n * images.shape[3]) + images.shape[4:])\n",
    "    sprite = (images * 255).astype(np.uint8)\n",
    "\n",
    "    return sprite"
   ]
  },
  {
   "cell_type": "code",
   "execution_count": 6,
   "metadata": {},
   "outputs": [
    {
     "name": "stdout",
     "output_type": "stream",
     "text": [
      "Downloading https://www.cs.toronto.edu/~kriz/cifar-10-python.tar.gz to data/cifar-10-python.tar.gz\n"
     ]
    },
    {
     "data": {
      "application/vnd.jupyter.widget-view+json": {
       "model_id": "fdd16dc0dfd1432fa62ed21c4a6a886f",
       "version_major": 2,
       "version_minor": 0
      },
      "text/plain": [
       "  0%|          | 0/170498071 [00:00<?, ?it/s]"
      ]
     },
     "metadata": {},
     "output_type": "display_data"
    },
    {
     "name": "stdout",
     "output_type": "stream",
     "text": [
      "Extracting data/cifar-10-python.tar.gz to data\n"
     ]
    }
   ],
   "source": [
    "# mean = (0.4914, 0.4822, 0.4465)\n",
    "# std = (0.2471, 0.2435, 0.2616)\n",
    "# transform = T.Compose(\n",
    "#             [\n",
    "#                 T.RandomCrop(32, padding=4),\n",
    "#                 T.RandomHorizontalFlip(),\n",
    "#                 T.ToTensor(),\n",
    "#                 T.Normalize(mean, std),\n",
    "#             ]\n",
    "#         )\n",
    "dataset = CIFAR10(root=\"data\", train=True, transform=transform, download=True)\n"
   ]
  },
  {
   "cell_type": "code",
   "execution_count": 3,
   "metadata": {},
   "outputs": [
    {
     "name": "stdout",
     "output_type": "stream",
     "text": [
      "Files already downloaded and verified\n",
      "Files already downloaded and verified\n"
     ]
    }
   ],
   "source": [
    "train_dataset = CIFAR10(root=\"data\", train=True, download=True)\n",
    "test_dataset = CIFAR10(root=\"data\", train=False, download=True)"
   ]
  },
  {
   "cell_type": "code",
   "execution_count": 6,
   "metadata": {},
   "outputs": [],
   "source": [
    "data = np.concatenate((train_dataset.data, test_dataset.data), axis=0)/255"
   ]
  },
  {
   "cell_type": "code",
   "execution_count": 7,
   "metadata": {},
   "outputs": [
    {
     "data": {
      "text/plain": [
       "(1.0, 0.0)"
      ]
     },
     "execution_count": 7,
     "metadata": {},
     "output_type": "execute_result"
    }
   ],
   "source": [
    "data.max(),data.min()"
   ]
  },
  {
   "cell_type": "code",
   "execution_count": 8,
   "metadata": {},
   "outputs": [],
   "source": [
    "sprite = create_sprite(data) "
   ]
  },
  {
   "cell_type": "code",
   "execution_count": 9,
   "metadata": {},
   "outputs": [],
   "source": [
    "file_name = \"cifar10.png\"\n",
    "from PIL import Image\n",
    "image = Image.fromarray(sprite)\n",
    "image.save(file_name)"
   ]
  }
 ],
 "metadata": {
  "interpreter": {
   "hash": "aa7a9f36e1a1e240450dbe9cc8f6d8df1d5301f36681fb271c44fdd883236b60"
  },
  "kernelspec": {
   "display_name": "Python 3.7.11 ('SV': conda)",
   "language": "python",
   "name": "python3"
  },
  "language_info": {
   "codemirror_mode": {
    "name": "ipython",
    "version": 3
   },
   "file_extension": ".py",
   "mimetype": "text/x-python",
   "name": "python",
   "nbconvert_exporter": "python",
   "pygments_lexer": "ipython3",
   "version": "3.7.11"
  },
  "orig_nbformat": 4
 },
 "nbformat": 4,
 "nbformat_minor": 2
}